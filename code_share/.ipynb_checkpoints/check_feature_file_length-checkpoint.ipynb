{
 "cells": [
  {
   "cell_type": "markdown",
   "metadata": {},
   "source": [
    "# Check the length of the feature files"
   ]
  },
  {
   "cell_type": "code",
   "execution_count": 2,
   "metadata": {},
   "outputs": [],
   "source": [
    "import pandas as pd\n",
    "import glob"
   ]
  },
  {
   "cell_type": "code",
   "execution_count": 27,
   "metadata": {},
   "outputs": [],
   "source": [
    "year = 2017\n",
    "listli = glob.glob(f\"../feature_files/{year}/ILLx8/*.csv\")\n",
    "\n",
    "# Check which files are too long or short\n",
    "short_list = []\n",
    "long_list = []\n",
    "perfect_list = []\n",
    "\n",
    "for file in listli:\n",
    "    test = pd.read_csv(file, header=None)\n",
    "    i = file.split('/')[-1].split('_')[0] # julian day\n",
    "    if len(test) < ((3600*24)/10-5):\n",
    "        short_list.append(int(i))\n",
    "    elif len(test) >= ((3600*24)/10-5) and len(test) < ((3600*24)/10):\n",
    "        perfect_list.append(int(i))\n",
    "    else:\n",
    "        long_list.append(int(i))\n",
    "\n",
    "# Check if files are missing\n",
    "file_name = [f.split('/')[-1] for f in listli]\n",
    "day = [f.split('_')[0] for f in file_name]\n",
    "\n",
    "raw_data = glob.glob(f'/media/manuela/Elements/illgraben/miniseed/{year}/XP/ILL?8/EHZ.D/*')\n",
    "filename = [f.split('/')[-1] for f in raw_data]\n",
    "raw_day = [f.split('.')[-1] for f in filename]\n",
    "\n",
    "missing_list = list(set(raw_day) - set(day))"
   ]
  },
  {
   "cell_type": "code",
   "execution_count": 28,
   "metadata": {},
   "outputs": [
    {
     "name": "stdout",
     "output_type": "stream",
     "text": [
      "[123, 135, 136, 137, 234]\n",
      "[138, 139, 140, 141, 142, 143, 144, 145, 146, 147, 148, 149, 150, 151, 152, 153, 154, 155, 156, 157, 158, 159, 160, 161, 162, 163, 164, 165, 166, 167, 168, 169, 170, 171, 172, 173, 174, 175, 176, 177, 178, 179, 180, 181, 182, 183, 184, 185, 186, 187, 188, 189, 190, 191, 192, 193, 194, 195, 196, 197, 198, 200, 201, 202, 203, 204, 205, 206, 209, 210, 211, 212, 213, 214, 215, 216, 217, 218, 219, 220, 221, 222, 224, 225, 226, 227, 228, 229, 230, 231, 232]\n",
      "[199, 207, 208, 223, 233]\n",
      "['075']\n"
     ]
    }
   ],
   "source": [
    "print(sorted(short_list))\n",
    "print(sorted(perfect_list))\n",
    "print(sorted(long_list))\n",
    "print(sorted(missing_list))"
   ]
  },
  {
   "cell_type": "code",
   "execution_count": 6,
   "metadata": {},
   "outputs": [
    {
     "data": {
      "text/plain": [
       "8630.0"
      ]
     },
     "execution_count": 6,
     "metadata": {},
     "output_type": "execute_result"
    }
   ],
   "source": [
    "((3600*24)/10-10)"
   ]
  },
  {
   "cell_type": "code",
   "execution_count": null,
   "metadata": {},
   "outputs": [],
   "source": []
  }
 ],
 "metadata": {
  "kernelspec": {
   "display_name": "Python 3",
   "language": "python",
   "name": "python3"
  },
  "language_info": {
   "codemirror_mode": {
    "name": "ipython",
    "version": 3
   },
   "file_extension": ".py",
   "mimetype": "text/x-python",
   "name": "python",
   "nbconvert_exporter": "python",
   "pygments_lexer": "ipython3",
   "version": "3.8.3"
  }
 },
 "nbformat": 4,
 "nbformat_minor": 4
}
