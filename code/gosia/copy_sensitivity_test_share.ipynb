{
 "cells": [
  {
   "cell_type": "code",
   "execution_count": 1,
   "metadata": {},
   "outputs": [],
   "source": [
    "import pandas as pd\n",
    "import scipy\n",
    "import itertools\n",
    "import numpy as np\n",
    "from time import perf_counter\n",
    "import pickle\n",
    "\n",
    "from sklearn.pipeline import Pipeline\n",
    "from sklearn.preprocessing import StandardScaler\n",
    "from sklearn.model_selection import GridSearchCV\n",
    "from sklearn.ensemble import RandomForestClassifier\n",
    "from imblearn.ensemble import BalancedRandomForestClassifier # new\n",
    "from sklearn.metrics import accuracy_score\n",
    "from sklearn.metrics import balanced_accuracy_score\n",
    "#from sklearn.model_selection import cross_val_score #new\n",
    "\n",
    "#seed random number generator\n",
    "from random import seed\n",
    "from random import sample\n",
    "seed(1)"
   ]
  },
  {
   "cell_type": "code",
   "execution_count": 2,
   "metadata": {},
   "outputs": [],
   "source": [
    "#Read feature data to data frame\n",
    "df_t = pd.read_csv(\"../../feature_files/train_features_yfilt_40s_hSNR_v4_with_thunder_without_bigsf.csv\",dtype={'event_class':np.float64})\n",
    "df_test = pd.read_csv('../../feature_files/test_features_yfilt_40s_hSNR_v4_with_thunder.csv')\n",
    "def combine_classes_catalog_2(cat):\n",
    "    cat.loc[cat['event_class'] == 2, 'event_class'] = 0 # Earthqauke Illgraben to Noise\n",
    "    return cat\n",
    "df_t = combine_classes_catalog_2(df_t)\n",
    "df_test = combine_classes_catalog_2(df_test)\n",
    "\n",
    "\n",
    "#event_names = np.array(['Noise', 'SlopeFailure'])\n",
    "#tar = np.array(df_t['event_class'])\n",
    "#df_t['event'] = pd.Categorical.from_codes(tar.astype(int), event_names)\n",
    "\n",
    "features = df_t.columns[4:] #skip the first columns that do not contain features\n",
    "\n",
    "y = np.asarray(df_t['event_class'])\n",
    "X = np.asarray(df_t[features])\n",
    "\n",
    "X_test = np.asarray(df_test[features])\n",
    "y_test = np.asarray(df_test['event_class'])"
   ]
  },
  {
   "cell_type": "code",
   "execution_count": 3,
   "metadata": {},
   "outputs": [],
   "source": [
    "## Declare data preprocessing steps\n",
    "#pipe_rf = Pipeline([('scl', StandardScaler()),('clf', RandomForestClassifier(random_state=42))])\n",
    "#\n",
    "##best params from the previous models\n",
    "#grid_params_rf = [{'clf__criterion': ['gini'], 'clf__min_samples_leaf': [3],\n",
    "#                   'clf__max_depth': [30],'clf__min_samples_split': [2],\n",
    "#                   'clf__bootstrap': [True],'clf__n_estimators':[1000],'clf__class_weight': ['balanced_subsample']}]\n",
    "#\n",
    "#gs_rf = GridSearchCV(estimator=pipe_rf, param_grid=grid_params_rf, scoring='accuracy', cv=2, n_jobs=4,verbose = 2)\n",
    "\n",
    "gs_rf = BalancedRandomForestClassifier(n_estimators=1200,criterion='gini',sampling_strategy='majority', max_features='sqrt', \\\n",
    "                                             n_jobs=-1, min_samples_leaf = 1, max_depth=10, min_samples_split=20, \\\n",
    "                                             oob_score=False, bootstrap=True, class_weight=None,random_state=10)"
   ]
  },
  {
   "cell_type": "code",
   "execution_count": 5,
   "metadata": {},
   "outputs": [],
   "source": [
    "#find indexes of time windows for different classes\n",
    "ind_noise = np.where(df_t['event_class'] == 0)[0]\n",
    "n_ev_noise = np.unique(df_t['event_idx'][ind_noise]) # nimmt jeden event_idex vom noise 1 mal\n",
    "n_samples_noise = len(ind_noise)\n",
    "\n",
    "ind_ev = np.where(df_t['event_class'] == 1)[0]\n",
    "n_ev_ev = np.unique(df_t['event_idx'][ind_ev]) # nimmt jeden event_idex von events 1 mal\n",
    "n_samples_ev = len(ind_ev)\n",
    "\n",
    "\n",
    "\n",
    "#min and max number of events used for the sensitivity test and \n",
    "nevent_max = 5\n",
    "nevent_min = 1\n",
    "# prepare a sequence of all events\n",
    "sequence = range(27)\n",
    "\n",
    "#number of cross-folds validations and initialize index \"cvi\" for counting\n",
    "cvi = 0\n",
    "n_cv=5\n",
    "\n",
    "#initialize arrays and list to store resutls\n",
    "best_acc = np.zeros((nevent_max,n_cv))\n",
    "best_bal_acc = np.zeros((nevent_max,n_cv))\n",
    "best_score = np.zeros((nevent_max,n_cv))\n",
    "best_params = {}\n",
    "\n",
    "index_train_all = []\n",
    "index_test_all = []\n",
    "\n",
    "test_set = []\n",
    "\n",
    "#ind_test1 = []\n",
    "#ind_test2 = []\n",
    "\n",
    "#initlalize variables n_sam_noise and n_sam_ev to count the number of events \n",
    "n_sam_noise = 0\n",
    "n_sam_ev = 0\n",
    "\n",
    "#define a subset of debris-flow events used for validation\n",
    "#subset=[8,15]"
   ]
  },
  {
   "cell_type": "code",
   "execution_count": 5,
   "metadata": {},
   "outputs": [],
   "source": [
    "##get the indexes of the time windows of debris-flow events used for validation\n",
    "#for ni in subset:\n",
    "#\n",
    "##    ind_individual_noise = np.where(n_ev_noise1[ni] == df_t['event_idx'])[0]\n",
    "#    ind_individual_ev = np.where(n_ev_ev[ni] == df_t['event_idx'])[0]\n",
    "#\n",
    "##    n_sam_noise += len(ind_individual_noise)\n",
    "#    n_sam_ev += len(ind_individual_ev)\n",
    "#\n",
    "##    ind_test1.append(ind_individual_noise)\n",
    "#    ind_test2.append(ind_individual_ev)"
   ]
  },
  {
   "cell_type": "code",
   "execution_count": null,
   "metadata": {},
   "outputs": [],
   "source": []
  },
  {
   "cell_type": "code",
   "execution_count": null,
   "metadata": {},
   "outputs": [],
   "source": [
    "##define the ration of noise events used for validation\n",
    "#pr_test = 0.3\n",
    "#n_ev_noise_test = np.round(len(n_ev_noise) * pr_test)\n",
    "#\n",
    "#n_test = []\n",
    "#ind_events = np.arange(len(n_ev_noise))\n",
    "#\n",
    "##get the indexes of the time windows of noise events used for training and validation (testing)\n",
    "#for ni in range(int(n_ev_noise_test)):\n",
    "#    n_evi = int(np.floor(np.random.rand(1) * len(ind_events)))\n",
    "#\n",
    "#    n_ev = ind_events[n_evi]\n",
    "#    n_test.append(n_ev)\n",
    "#    ind_events = np.delete(ind_events, n_evi)\n",
    "#    \n",
    "#    \n",
    "##index of training invents for the noise class\n",
    "#index_train_n = ind_events.reshape((1,len(ind_events)))\n",
    "#\n",
    "#ind_test3 = []\n",
    "#for ni in n_test:\n",
    "#    ind_individual_noise = np.where(n_ev_noise[int(ni)] == df_t['event_idx'])[0]\n",
    "#    ind_test3.append(ind_individual_noise)\n",
    "#\n",
    "##test_set.append(ind_test1)\n",
    "#test_set.append(ind_test2)\n",
    "#test_set.append(ind_test3)\n",
    "#\n",
    "#merged = list(itertools.chain(*list(itertools.chain(*test_set))))\n",
    "#merged_s = np.sort(merged)\n",
    "#\n",
    "#index_test = merged_s\n",
    "#\n",
    "#testing set\n",
    "#X_test = X[index_test]\n",
    "#y_test = y[index_test]"
   ]
  },
  {
   "cell_type": "code",
   "execution_count": 6,
   "metadata": {},
   "outputs": [
    {
     "data": {
      "text/plain": [
       "array([[11.11897928, 16.46528884,  2.23705502, ...,  4.85533497,\n",
       "         4.83208456,  9.68741953],\n",
       "       [29.22571357, 52.72795231,  0.        , ...,  5.35484371,\n",
       "         4.28482498,  9.63966869],\n",
       "       [12.87967858, 63.61266667,  2.27146361, ...,  4.34382602,\n",
       "         4.54332951,  8.88715553],\n",
       "       ...,\n",
       "       [25.0216253 , 79.86977779,  0.77585442, ...,  3.75606573,\n",
       "         5.91085344,  9.66691917],\n",
       "       [ 4.44064805,  4.72823333,  1.97472119, ...,  5.43009503,\n",
       "         3.91006843,  9.34016345],\n",
       "       [ 9.50127901, 29.60116547,  4.89248895, ...,  4.94583655,\n",
       "         4.01357024,  8.95940679]])"
      ]
     },
     "execution_count": 6,
     "metadata": {},
     "output_type": "execute_result"
    }
   ],
   "source": [
    "##index of training events for the noise class\n",
    "#index_train_n = ind_events.reshape((1,len(ind_events)))"
   ]
  },
  {
   "cell_type": "code",
   "execution_count": 6,
   "metadata": {
    "scrolled": true
   },
   "outputs": [
    {
     "name": "stdout",
     "output_type": "stream",
     "text": [
      "[4]\n"
     ]
    },
    {
     "ename": "NameError",
     "evalue": "name 'index_train_n' is not defined",
     "output_type": "error",
     "traceback": [
      "\u001b[0;31m---------------------------------------------------------------------------\u001b[0m",
      "\u001b[0;31mNameError\u001b[0m                                 Traceback (most recent call last)",
      "\u001b[0;32m<ipython-input-6-e4dd59123bda>\u001b[0m in \u001b[0;36m<module>\u001b[0;34m\u001b[0m\n\u001b[1;32m     35\u001b[0m         \u001b[0mtest_set\u001b[0m\u001b[0;34m.\u001b[0m\u001b[0mappend\u001b[0m\u001b[0;34m(\u001b[0m\u001b[0mind_test1\u001b[0m\u001b[0;34m)\u001b[0m\u001b[0;34m\u001b[0m\u001b[0;34m\u001b[0m\u001b[0m\n\u001b[1;32m     36\u001b[0m         \u001b[0mtest_set\u001b[0m\u001b[0;34m.\u001b[0m\u001b[0mappend\u001b[0m\u001b[0;34m(\u001b[0m\u001b[0mind_test2\u001b[0m\u001b[0;34m)\u001b[0m\u001b[0;34m\u001b[0m\u001b[0;34m\u001b[0m\u001b[0m\n\u001b[0;32m---> 37\u001b[0;31m         \u001b[0mtest_set\u001b[0m\u001b[0;34m.\u001b[0m\u001b[0mappend\u001b[0m\u001b[0;34m(\u001b[0m\u001b[0mindex_train_n\u001b[0m\u001b[0;34m)\u001b[0m\u001b[0;34m\u001b[0m\u001b[0;34m\u001b[0m\u001b[0m\n\u001b[0m\u001b[1;32m     38\u001b[0m \u001b[0;34m\u001b[0m\u001b[0m\n\u001b[1;32m     39\u001b[0m         \u001b[0mmerged\u001b[0m \u001b[0;34m=\u001b[0m \u001b[0mlist\u001b[0m\u001b[0;34m(\u001b[0m\u001b[0mitertools\u001b[0m\u001b[0;34m.\u001b[0m\u001b[0mchain\u001b[0m\u001b[0;34m(\u001b[0m\u001b[0;34m*\u001b[0m\u001b[0mlist\u001b[0m\u001b[0;34m(\u001b[0m\u001b[0mitertools\u001b[0m\u001b[0;34m.\u001b[0m\u001b[0mchain\u001b[0m\u001b[0;34m(\u001b[0m\u001b[0;34m*\u001b[0m\u001b[0mtest_set\u001b[0m\u001b[0;34m)\u001b[0m\u001b[0;34m)\u001b[0m\u001b[0;34m)\u001b[0m\u001b[0;34m)\u001b[0m\u001b[0;34m\u001b[0m\u001b[0;34m\u001b[0m\u001b[0m\n",
      "\u001b[0;31mNameError\u001b[0m: name 'index_train_n' is not defined"
     ]
    }
   ],
   "source": [
    "#training set \n",
    "for ne in range(nevent_min, nevent_max):\n",
    "\n",
    "\n",
    "    for n_ci in range(n_cv):\n",
    "        \n",
    "        subset = sample(range(0,len(n_ev_ev)), ne) # sequence liste mit indeces von events\n",
    "\n",
    "        test_set = []\n",
    "        index_train =[]\n",
    "\n",
    "        print(subset)\n",
    "\n",
    "        ind_test1 = []\n",
    "        ind_test2 = []\n",
    "\n",
    "        n_sam_noise = 0\n",
    "        n_sam_ev = 0\n",
    "\n",
    "        for ni in subset:\n",
    "\n",
    "            ind_individual_noise = np.where(n_ev_noise[ni] == df_t['event_idx'])[0]\n",
    "            ind_individual_ev = np.where(n_ev_ev[ni] == df_t['event_idx'])[0]\n",
    "\n",
    "            n_sam_noise += len(ind_individual_noise)\n",
    "            n_sam_ev += len(ind_individual_ev)\n",
    "\n",
    "            ind_test1.append(ind_individual_noise)\n",
    "            ind_test2.append(ind_individual_ev)\n",
    "\n",
    "        n_ev_noise_test = np.round(len(n_ev_noise) * 2/3)#pr_test)\n",
    "\n",
    "        n_test = []\n",
    "\n",
    "        test_set.append(ind_test1)\n",
    "        test_set.append(ind_test2)\n",
    "        test_set.append(index_train_n)\n",
    "\n",
    "        merged = list(itertools.chain(*list(itertools.chain(*test_set))))\n",
    "        merged_s = np.sort(merged)\n",
    "\n",
    "        index_train = merged_s\n",
    "\n",
    "\n",
    "        X_train = X[index_train]\n",
    "        y_train = y[index_train]\n",
    "\n",
    "\n",
    "        # Fit the grid search objects\n",
    "        print('Performing model optimizations...')\n",
    "\n",
    "        print('\\nEstimator: Random Forest')\n",
    "        t1_start = perf_counter()\n",
    "        # Fit grid search\n",
    "        gs_rf.fit(X_train, y_train)\n",
    "\n",
    "        t1_stop = perf_counter()\n",
    "\n",
    "        print(\"Elapsed time during the whole program in seconds:\", t1_stop - t1_start)\n",
    "\n",
    "        # Predict on test data with best params\n",
    "        y_pred = gs_rf.predict(X_test)\n",
    "        # Test data accuracy of model with best params\n",
    "        print('Test set accuracy score for best params: %.3f ' % accuracy_score(y_test, y_pred))\n",
    "\n",
    "        print('Test set balanced accuracy: %.3f' % balanced_accuracy_score(y_test,y_pred))\n",
    "\n",
    "        #store all scores\n",
    "        best_acc[ne,n_ci]=accuracy_score(y_test, y_pred)\n",
    "        best_bal_acc[ne,n_ci]=balanced_accuracy_score(y_test,y_pred)\n",
    "        #best_score[ne,n_ci]=gs_rf.best_score_\n",
    "        best_params[cvi] = subset\n",
    "        index_train_all.append(index_train)\n",
    "        index_test_all.append(index_test)\n",
    "\n",
    "        cvi += 1\n",
    "\n",
    "\n",
    "#uncomment to save the results into pickels files        \n",
    "#pickle.dump([best_acc, best_score, best_params,best_bal_acc], open(\"sensitivity_test_cv_noise_1_3_final.p\", \"wb\"))\n",
    "#pickle.dump([index_train_all, index_test_all], open(\"sensitivity_test_cv_train_test_noise_1_3_final.p\", \"wb\"))"
   ]
  },
  {
   "cell_type": "code",
   "execution_count": 62,
   "metadata": {},
   "outputs": [
    {
     "data": {
      "text/plain": [
       "array([94, 95, 96])"
      ]
     },
     "execution_count": 62,
     "metadata": {},
     "output_type": "execute_result"
    }
   ],
   "source": [
    "np.where(n_ev_ev[ni] == df_t['event_idx'])[0] # bei gosia fortlaufende zahlen len 228"
   ]
  },
  {
   "cell_type": "code",
   "execution_count": 33,
   "metadata": {
    "scrolled": true
   },
   "outputs": [
    {
     "data": {
      "text/plain": [
       "(array([  0,   1,   2,   3,   4,   5,   6,   7,   8,   9,  10,  11,  12,\n",
       "         13,  14,  15,  16,  17,  18,  19,  20,  21,  22,  23,  24,  25,\n",
       "         26,  27,  28,  29,  30,  31,  32,  33,  34,  63,  64,  65,  66,\n",
       "         67,  68,  69,  70,  71,  72,  73,  74,  75,  76,  77,  78,  79,\n",
       "         80,  81,  82,  83,  84,  85,  86,  87,  88,  89,  90,  91,  92,\n",
       "         93,  97,  98,  99, 100, 101, 102, 103, 104, 105, 106, 107, 108,\n",
       "        115, 116, 117, 118, 119, 120, 121, 122, 123, 124, 125, 126, 145,\n",
       "        146, 147, 148, 149, 150, 151, 152, 153, 154, 155, 156, 157, 160,\n",
       "        161, 162, 163, 164, 165, 166, 167, 168, 169, 170, 171, 172, 173,\n",
       "        174, 186, 187, 188, 189, 190, 191, 192, 193, 194, 195, 196, 197,\n",
       "        198, 199, 200, 201, 202, 203, 204, 205, 206, 207, 208, 209, 210,\n",
       "        211, 212, 213, 214, 215, 216, 217, 218, 219, 220, 221, 222, 223,\n",
       "        224, 225, 226, 227, 228, 229, 230, 231, 232, 233, 234, 235, 236,\n",
       "        237, 238, 239, 240, 241, 242, 243, 244, 245, 246, 251, 252, 253,\n",
       "        254, 255, 256, 257, 258, 259, 260, 261, 262, 263, 264, 265, 266,\n",
       "        267, 268, 269, 270, 271, 272, 273, 274, 275, 276, 277, 278, 279,\n",
       "        280, 281, 282, 283, 284, 285, 286, 287, 288, 289, 290, 291, 292,\n",
       "        293, 294, 295, 296, 297, 298, 299, 300, 301, 302, 303, 304, 305,\n",
       "        306, 307, 308, 309, 320, 321, 322, 323, 324, 325, 326, 327, 328,\n",
       "        329, 330, 331, 332, 333, 334, 335, 336, 337, 338, 339, 340, 341,\n",
       "        342, 343, 344, 345, 346, 347, 348, 349, 350, 351, 352, 353, 354,\n",
       "        355, 356, 357, 358, 359, 360, 361, 362, 363, 364, 365, 366, 367,\n",
       "        368, 369, 370, 371, 372, 373, 374, 375, 376, 377, 378, 379, 380,\n",
       "        381, 382, 383, 384, 385, 386, 387, 388, 389, 390, 391, 392, 393,\n",
       "        394, 395, 396, 397, 398, 399, 400, 401, 402, 403, 404, 405, 406,\n",
       "        407, 408, 409, 410, 411, 412, 413, 414, 415, 416, 417, 418, 419,\n",
       "        420, 421, 422, 423, 424, 425, 426, 427, 428, 429, 430, 431, 432,\n",
       "        433, 434, 435, 436, 437, 438, 439, 440, 441, 442, 443, 444, 445,\n",
       "        446, 447, 448, 449, 450, 451, 452, 453, 454, 455, 456, 457, 458,\n",
       "        459, 460, 461, 462, 463, 464, 465, 466, 467, 468, 469, 470, 471,\n",
       "        472, 473, 474, 475, 476, 477, 478, 479, 480, 481, 482, 483, 484,\n",
       "        485, 486, 487, 488, 489, 490, 491, 492, 493, 494, 495, 496, 497,\n",
       "        498, 499, 500, 501, 502, 503, 504, 505, 506, 507, 508, 509, 510,\n",
       "        511, 512, 513, 514, 515, 516, 517, 518, 519, 520, 521, 522, 523,\n",
       "        524, 525, 526, 527, 528, 529, 530, 531, 532, 533, 534, 535, 536,\n",
       "        537, 538, 539, 540, 541, 542, 543, 544, 545, 546, 547, 548, 549,\n",
       "        550, 551, 552, 553, 554, 555, 556, 557, 558, 559, 560, 561, 562,\n",
       "        563, 564, 565, 566, 567, 568, 569, 570, 571, 572, 573, 574, 575,\n",
       "        576, 577, 578, 579, 580, 581, 582, 583, 584, 585, 586, 587, 588,\n",
       "        589, 590, 591, 592, 593, 594, 595, 596, 597, 598, 599, 600, 601,\n",
       "        602, 603, 604, 605, 606, 607, 608, 609, 610, 611, 612, 613, 614,\n",
       "        615, 616, 617, 618, 619]),)"
      ]
     },
     "execution_count": 33,
     "metadata": {},
     "output_type": "execute_result"
    }
   ],
   "source": [
    "np.where(df_t['event_class'] == 0) # index von noise -> ind_noise"
   ]
  },
  {
   "cell_type": "code",
   "execution_count": 49,
   "metadata": {
    "scrolled": true
   },
   "outputs": [
    {
     "data": {
      "text/plain": [
       "30    15\n",
       "31    15\n",
       "32    16\n",
       "33    16\n",
       "34    16\n",
       "63    33\n",
       "64    33\n",
       "65    35\n",
       "66    35\n",
       "67    35\n",
       "68    36\n",
       "69    36\n",
       "70    36\n",
       "71    36\n",
       "72    38\n",
       "73    38\n",
       "74    38\n",
       "75    38\n",
       "76    38\n",
       "77    38\n",
       "78    38\n",
       "79    39\n",
       "80    39\n",
       "81    39\n",
       "82    39\n",
       "83    40\n",
       "84    40\n",
       "85    40\n",
       "86    40\n",
       "87    41\n",
       "88    41\n",
       "89    41\n",
       "90    42\n",
       "91    42\n",
       "92    44\n",
       "Name: event_idx, dtype: int64"
      ]
     },
     "execution_count": 49,
     "metadata": {},
     "output_type": "execute_result"
    }
   ],
   "source": [
    "df_t['event_idx'][ind_noise] # nur die indeces vom noise und dann neuer index fortlaufend"
   ]
  },
  {
   "cell_type": "code",
   "execution_count": 10,
   "metadata": {},
   "outputs": [
    {
     "name": "stderr",
     "output_type": "stream",
     "text": [
      "findfont: Font family ['Helvetica'] not found. Falling back to DejaVu Sans.\n"
     ]
    },
    {
     "name": "stdout",
     "output_type": "stream",
     "text": [
      "5\n",
      "621\n"
     ]
    },
    {
     "data": {
      "image/png": "[encoded data removed]",
      "text/plain": [
       "<Figure size 504x432 with 1 Axes>"
      ]
     },
     "metadata": {
      "needs_background": "light"
     },
     "output_type": "display_data"
    }
   ],
   "source": [
    "#plotting\n",
    "import matplotlib as mpl\n",
    "import matplotlib.pyplot as plt\n",
    "from matplotlib import rc\n",
    "import matplotlib.dates as md\n",
    "rc('text', usetex=False)\n",
    "plt.close()\n",
    "plt.rc('font',family='Helvetica')\n",
    "\n",
    "\n",
    "n_events_train=np.arange(0,len(df_t)+1)\n",
    "mean_ba = np.mean(best_bal_acc[1::,:],axis=1)\n",
    "\n",
    "print(len(best_acc))\n",
    "print(len(n_events_train))\n",
    "\n",
    "std_ba = np.std(best_bal_acc[1::,:], axis=1)\n",
    "tprs_upper = np.minimum(mean_ba + std_ba, 1)\n",
    "tprs_lower = np.maximum(mean_ba - std_ba, 0)\n",
    "\n",
    "plt.close()\n",
    "\n",
    "fig, ax = plt.subplots(figsize=(7,6))\n",
    "plt.rc('font',family='Helvetica')\n",
    "\n",
    "ax.fill_between(n_events_train[nevent_min:nevent_max], tprs_lower, tprs_upper, color='lightgreen', alpha=.4)\n",
    "ax.plot(n_events_train[nevent_min:nevent_max], mean_ba,color='forestgreen',\n",
    "        label='Mean balanced accuracy',\n",
    "        lw=3, alpha=.8)\n",
    "\n",
    "#ax.plot([0, 1], [0, 1], linestyle=':', lw=2, color='k', alpha=.8)\n",
    "\n",
    "#ax.set(xlim=[-0.05, 1.05], ylim=[-0.05, 1.05],\n",
    "#       title=\"Receiver operating characteristic example\")\n",
    "#ax.set(xlim=[-0.05, 1.05], ylim=[-0.05, 1.05])\n",
    "plt.yticks(fontsize=12)\n",
    "plt.xticks(fontsize=12)\n",
    "plt.xticks(n_events_train[nevent_min:nevent_max])\n",
    "ax.legend(loc=\"lower right\",fontsize=12)\n",
    "plt.xlabel('Number of DF events used in training set', fontsize=12)\n",
    "plt.ylabel('Balanced accuracy', fontsize=12)\n",
    "plt.grid()\n",
    "#plt.savefig(f'../../plot/sensitivity/4.png', bbox_inches='tight', dpi=300)"
   ]
  },
  {
   "cell_type": "code",
   "execution_count": null,
   "metadata": {},
   "outputs": [],
   "source": []
  }
 ],
 "metadata": {
  "kernelspec": {
   "display_name": "Python 3",
   "language": "python",
   "name": "python3"
  },
  "language_info": {
   "codemirror_mode": {
    "name": "ipython",
    "version": 3
   },
   "file_extension": ".py",
   "mimetype": "text/x-python",
   "name": "python",
   "nbconvert_exporter": "python",
   "pygments_lexer": "ipython3",
   "version": "3.8.3"
  }
 },
 "nbformat": 4,
 "nbformat_minor": 5
}
