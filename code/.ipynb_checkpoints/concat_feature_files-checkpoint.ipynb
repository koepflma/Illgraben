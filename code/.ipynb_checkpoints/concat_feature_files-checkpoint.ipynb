{
 "cells": [
  {
   "cell_type": "code",
   "execution_count": 14,
   "id": "5b791c38",
   "metadata": {},
   "outputs": [],
   "source": [
    "import pandas as pd\n",
    "import glob"
   ]
  },
  {
   "cell_type": "code",
   "execution_count": 26,
   "id": "04c423c7",
   "metadata": {
    "scrolled": true
   },
   "outputs": [
    {
     "data": {
      "text/plain": [
       "66"
      ]
     },
     "execution_count": 26,
     "metadata": {},
     "output_type": "execute_result"
    }
   ],
   "source": [
    "year = 2017\n",
    "file_list1 = glob.glob('/data/wsd03/data_manuela/Illgraben/feature_files/{}/ILLx5678/1*'.format(year))+glob.glob('/data/wsd03/data_manuela/Illgraben/feature_files/{}/ILLx5678/2*'.format(year))\n",
    "len(file_list1)"
   ]
  },
  {
   "cell_type": "code",
   "execution_count": 27,
   "id": "07154144",
   "metadata": {},
   "outputs": [
    {
     "data": {
      "text/plain": [
       "64"
      ]
     },
     "execution_count": 27,
     "metadata": {},
     "output_type": "execute_result"
    }
   ],
   "source": [
    "file_list2 = glob.glob('/data/wsd03/data_manuela/Illgraben/feature_files/{}/ILLx5678/ILLx5*'.format(year))\n",
    "len(file_list2)"
   ]
  },
  {
   "cell_type": "code",
   "execution_count": 19,
   "id": "c5e09558",
   "metadata": {},
   "outputs": [
    {
     "ename": "SyntaxError",
     "evalue": "invalid syntax (246613712.py, line 6)",
     "output_type": "error",
     "traceback": [
      "\u001b[0;36m  Input \u001b[0;32mIn [19]\u001b[0;36m\u001b[0m\n\u001b[0;31m    df_test.to_csv(, header=False, index=False)\u001b[0m\n\u001b[0m                   ^\u001b[0m\n\u001b[0;31mSyntaxError\u001b[0m\u001b[0;31m:\u001b[0m invalid syntax\n"
     ]
    }
   ],
   "source": [
    "if len(file_list1)==len(file_list2):\n",
    "    for i,f1 in enumerate(file_list1):\n",
    "        df1 = pd.read_csv(f1)\n",
    "        df2 = pd.read_csv(file_list2[i])\n",
    "        df_test = pd.concat([df1,df2], axis=1)\n",
    "        df_test.to_csv(f1, header=False, index=False)\n",
    "else:\n",
    "    print('file list 1 does not have the same length as file list 2')"
   ]
  },
  {
   "cell_type": "code",
   "execution_count": null,
   "id": "19a77910",
   "metadata": {},
   "outputs": [],
   "source": []
  }
 ],
 "metadata": {
  "kernelspec": {
   "display_name": "ILLenv",
   "language": "python",
   "name": "illenv"
  },
  "language_info": {
   "codemirror_mode": {
    "name": "ipython",
    "version": 3
   },
   "file_extension": ".py",
   "mimetype": "text/x-python",
   "name": "python",
   "nbconvert_exporter": "python",
   "pygments_lexer": "ipython3",
   "version": "3.10.2"
  }
 },
 "nbformat": 4,
 "nbformat_minor": 5
}
